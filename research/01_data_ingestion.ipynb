{
 "cells": [
  {
   "cell_type": "code",
   "execution_count": 1,
   "metadata": {},
   "outputs": [],
   "source": [
    "import os"
   ]
  },
  {
   "cell_type": "code",
   "execution_count": 2,
   "metadata": {},
   "outputs": [
    {
     "data": {
      "text/plain": [
       "'c:\\\\Users\\\\yitayew\\\\Desktop\\\\redwinequality\\\\End-to-end-ml-project\\\\research'"
      ]
     },
     "execution_count": 2,
     "metadata": {},
     "output_type": "execute_result"
    }
   ],
   "source": [
    "%pwd"
   ]
  },
  {
   "cell_type": "code",
   "execution_count": 3,
   "metadata": {},
   "outputs": [],
   "source": [
    "os.chdir(\"../\")"
   ]
  },
  {
   "cell_type": "code",
   "execution_count": 4,
   "metadata": {},
   "outputs": [
    {
     "data": {
      "text/plain": [
       "'c:\\\\Users\\\\yitayew\\\\Desktop\\\\redwinequality\\\\End-to-end-ml-project'"
      ]
     },
     "execution_count": 4,
     "metadata": {},
     "output_type": "execute_result"
    }
   ],
   "source": [
    "%pwd"
   ]
  },
  {
   "cell_type": "code",
   "execution_count": 5,
   "metadata": {},
   "outputs": [],
   "source": [
    "from dataclasses import dataclass  # Import the dataclass decorator for creating data classes\n",
    "from pathlib import Path          # Import the Path class for handling file system paths\n",
    "\n",
    "\n",
    "@dataclass(frozen=True)  # Define a dataclass with immutable fields\n",
    "class DataIngestionConfig:\n",
    "    # Attributes of the DataIngestionConfig class with their types\n",
    "    root_dir: Path           # Directory where data ingestion artifacts will be stored\n",
    "    source_URL: str          # URL from which the data will be downloaded\n",
    "    local_data_file: Path    # Path to the local file where downloaded data will be saved\n",
    "    unzip_dir: Path          # Directory where the downloaded data will be unzipped"
   ]
  },
  {
   "cell_type": "code",
   "execution_count": 10,
   "metadata": {},
   "outputs": [
    {
     "ename": "ModuleNotFoundError",
     "evalue": "No module named 'mlproject'",
     "output_type": "error",
     "traceback": [
      "\u001b[1;31m---------------------------------------------------------------------------\u001b[0m",
      "\u001b[1;31mModuleNotFoundError\u001b[0m                       Traceback (most recent call last)",
      "Cell \u001b[1;32mIn[10], line 2\u001b[0m\n\u001b[0;32m      1\u001b[0m \u001b[38;5;28;01mfrom\u001b[39;00m \u001b[38;5;21;01msrc\u001b[39;00m\u001b[38;5;21;01m.\u001b[39;00m\u001b[38;5;21;01mmlproject\u001b[39;00m \u001b[38;5;28;01mimport\u001b[39;00m\u001b[38;5;241m*\u001b[39m\n\u001b[1;32m----> 2\u001b[0m \u001b[38;5;28;01mfrom\u001b[39;00m \u001b[38;5;21;01msrc\u001b[39;00m\u001b[38;5;21;01m.\u001b[39;00m\u001b[38;5;21;01mmlproject\u001b[39;00m\u001b[38;5;21;01m.\u001b[39;00m\u001b[38;5;21;01mutils\u001b[39;00m\u001b[38;5;21;01m.\u001b[39;00m\u001b[38;5;21;01mcommon\u001b[39;00m \u001b[38;5;28;01mimport\u001b[39;00m read_yaml,create_directories\n",
      "File \u001b[1;32mc:\\Users\\yitayew\\Desktop\\redwinequality\\End-to-end-ml-project\\src\\mlproject\\utils\\common.py:4\u001b[0m\n\u001b[0;32m      2\u001b[0m \u001b[38;5;28;01mfrom\u001b[39;00m \u001b[38;5;21;01mbox\u001b[39;00m\u001b[38;5;21;01m.\u001b[39;00m\u001b[38;5;21;01mexceptions\u001b[39;00m \u001b[38;5;28;01mimport\u001b[39;00m BoxValueError  \u001b[38;5;66;03m# Import BoxValueError exception from the box library\u001b[39;00m\n\u001b[0;32m      3\u001b[0m \u001b[38;5;28;01mimport\u001b[39;00m \u001b[38;5;21;01myaml\u001b[39;00m  \u001b[38;5;66;03m# Import YAML module to handle YAML files\u001b[39;00m\n\u001b[1;32m----> 4\u001b[0m \u001b[38;5;28;01mfrom\u001b[39;00m \u001b[38;5;21;01mmlproject\u001b[39;00m \u001b[38;5;28;01mimport\u001b[39;00m logger  \u001b[38;5;66;03m# Import logger from the mlproject module\u001b[39;00m\n\u001b[0;32m      5\u001b[0m \u001b[38;5;28;01mimport\u001b[39;00m \u001b[38;5;21;01mjson\u001b[39;00m  \u001b[38;5;66;03m# Import JSON module to handle JSON files\u001b[39;00m\n\u001b[0;32m      6\u001b[0m \u001b[38;5;28;01mimport\u001b[39;00m \u001b[38;5;21;01mjoblib\u001b[39;00m  \u001b[38;5;66;03m# Import joblib for saving and loading binary files\u001b[39;00m\n",
      "\u001b[1;31mModuleNotFoundError\u001b[0m: No module named 'mlproject'"
     ]
    }
   ],
   "source": [
    "from src.mlproject import*\n",
    "from src.mlproject.utils.common import read_yaml,create_directories"
   ]
  },
  {
   "cell_type": "code",
   "execution_count": 8,
   "metadata": {},
   "outputs": [],
   "source": [
    "class ConfigurationManager:\n",
    "    # Constructor method to initialize the ConfigurationManager class\n",
    "    def __init__(\n",
    "        self,\n",
    "        config_filepath=CONFIG_FILE_PATH,  # Path to the configuration file, with a default value\n",
    "        params_filepath=PARAMS_FILE_PATH,  # Path to the parameters file, with a default value\n",
    "        schema_filepath=SCHEMA_FILE_PATH   # Path to the schema file, with a default value\n",
    "    ):\n",
    "        # Reading and loading the configuration, parameters, and schema files\n",
    "        self.config = read_yaml(config_filepath)  # Load configuration settings from the YAML file\n",
    "        self.params = read_yaml(params_filepath)  # Load parameters from the YAML file\n",
    "        self.schema = read_yaml(schema_filepath)  # Load schema definitions from the YAML file\n",
    "\n",
    "        # Create directories specified in the configuration for storing artifacts\n",
    "        create_directories([self.config.artifacts_root])\n",
    "\n",
    "    # Method to get the data ingestion configuration\n",
    "    def get_data_ingestion_config(self) -> DataIngestionConfig:\n",
    "        config = self.config.data_ingestion  # Access the data ingestion section from the config\n",
    "\n",
    "        # Create the root directory for data ingestion if it doesn't already exist\n",
    "        create_directories([config.root_dir])\n",
    "\n",
    "        # Create a DataIngestionConfig object using values from the configuration file\n",
    "        data_ingestion_config = DataIngestionConfig(\n",
    "            root_dir=config.root_dir,              # Root directory for data ingestion\n",
    "            source_URL=config.source_URL,          # URL to download the data from\n",
    "            local_data_file=config.local_data_file,  # Path to the local data file\n",
    "            unzip_dir=config.unzip_dir             # Directory where the data will be unzipped\n",
    "        )\n",
    "\n",
    "        # Return the data ingestion configuration object\n",
    "        return data_ingestion_config"
   ]
  },
  {
   "cell_type": "code",
   "execution_count": 9,
   "metadata": {},
   "outputs": [
    {
     "ename": "ModuleNotFoundError",
     "evalue": "No module named 'mlproject'",
     "output_type": "error",
     "traceback": [
      "\u001b[1;31m---------------------------------------------------------------------------\u001b[0m",
      "\u001b[1;31mModuleNotFoundError\u001b[0m                       Traceback (most recent call last)",
      "Cell \u001b[1;32mIn[9], line 5\u001b[0m\n\u001b[0;32m      3\u001b[0m \u001b[38;5;28;01mimport\u001b[39;00m \u001b[38;5;21;01mzipfile\u001b[39;00m\n\u001b[0;32m      4\u001b[0m \u001b[38;5;28;01mfrom\u001b[39;00m \u001b[38;5;21;01msrc\u001b[39;00m\u001b[38;5;21;01m.\u001b[39;00m\u001b[38;5;21;01mmlproject\u001b[39;00m \u001b[38;5;28;01mimport\u001b[39;00m logger\n\u001b[1;32m----> 5\u001b[0m \u001b[38;5;28;01mfrom\u001b[39;00m \u001b[38;5;21;01msrc\u001b[39;00m\u001b[38;5;21;01m.\u001b[39;00m\u001b[38;5;21;01mmlproject\u001b[39;00m\u001b[38;5;21;01m.\u001b[39;00m\u001b[38;5;21;01mutils\u001b[39;00m\u001b[38;5;21;01m.\u001b[39;00m\u001b[38;5;21;01mcommon\u001b[39;00m \u001b[38;5;28;01mimport\u001b[39;00m get_size\n",
      "File \u001b[1;32mc:\\Users\\yitayew\\Desktop\\redwinequality\\End-to-end-ml-project\\src\\mlproject\\utils\\common.py:4\u001b[0m\n\u001b[0;32m      2\u001b[0m \u001b[38;5;28;01mfrom\u001b[39;00m \u001b[38;5;21;01mbox\u001b[39;00m\u001b[38;5;21;01m.\u001b[39;00m\u001b[38;5;21;01mexceptions\u001b[39;00m \u001b[38;5;28;01mimport\u001b[39;00m BoxValueError  \u001b[38;5;66;03m# Import BoxValueError exception from the box library\u001b[39;00m\n\u001b[0;32m      3\u001b[0m \u001b[38;5;28;01mimport\u001b[39;00m \u001b[38;5;21;01myaml\u001b[39;00m  \u001b[38;5;66;03m# Import YAML module to handle YAML files\u001b[39;00m\n\u001b[1;32m----> 4\u001b[0m \u001b[38;5;28;01mfrom\u001b[39;00m \u001b[38;5;21;01mmlproject\u001b[39;00m \u001b[38;5;28;01mimport\u001b[39;00m logger  \u001b[38;5;66;03m# Import logger from the mlproject module\u001b[39;00m\n\u001b[0;32m      5\u001b[0m \u001b[38;5;28;01mimport\u001b[39;00m \u001b[38;5;21;01mjson\u001b[39;00m  \u001b[38;5;66;03m# Import JSON module to handle JSON files\u001b[39;00m\n\u001b[0;32m      6\u001b[0m \u001b[38;5;28;01mimport\u001b[39;00m \u001b[38;5;21;01mjoblib\u001b[39;00m  \u001b[38;5;66;03m# Import joblib for saving and loading binary files\u001b[39;00m\n",
      "\u001b[1;31mModuleNotFoundError\u001b[0m: No module named 'mlproject'"
     ]
    }
   ],
   "source": [
    "import os\n",
    "import urllib.request as request\n",
    "import zipfile\n",
    "from src.mlproject import logger\n",
    "from src.mlproject.utils.common import get_size"
   ]
  },
  {
   "cell_type": "code",
   "execution_count": null,
   "metadata": {},
   "outputs": [],
   "source": [
    "#pip install PyYAML"
   ]
  },
  {
   "cell_type": "code",
   "execution_count": null,
   "metadata": {},
   "outputs": [],
   "source": [
    "class DataIngestion:\n",
    "    # Constructor method to initialize the DataIngestion class\n",
    "    def __init__(self, config: DataIngestionConfig):\n",
    "        self.config = config  # Store the configuration object for data ingestion\n",
    "\n",
    "    # Method to download the file from the specified URL\n",
    "    def download_file(self):\n",
    "        # Check if the file already exists at the local_data_file path\n",
    "        if not os.path.exists(self.config.local_data_file):\n",
    "            # If the file doesn't exist, download it from the source URL and save it locally\n",
    "            filename, headers = request.urlretrieve(\n",
    "                url=self.config.source_URL,             # URL to download the file from\n",
    "                filename=self.config.local_data_file    # Local path to save the downloaded file\n",
    "            )\n",
    "            # Log a message indicating that the file was successfully downloaded\n",
    "            logger.info(f\"{filename} downloaded! with the following info: \\n{headers}\")\n",
    "        else:\n",
    "            # If the file already exists, log a message indicating its size\n",
    "            logger.info(f\"File already exists of size: {get_size(Path(self.config.local_data_file))}\")\n",
    "\n",
    "    # Method to extract a zip file to the specified directory\n",
    "    def extract_zip_file(self):\n",
    "        \"\"\"\n",
    "        Extracts the zip file into the data directory.\n",
    "        Function returns None.\n",
    "        \"\"\"\n",
    "        unzip_path = self.config.unzip_dir  # Path where the zip file will be extracted\n",
    "        os.makedirs(unzip_path, exist_ok=True)  # Create the unzip directory if it doesn't exist\n",
    "        # Open the zip file and extract all its contents to the unzip path\n",
    "        with zipfile.ZipFile(self.config.local_data_file, 'r') as zip_ref:\n",
    "            zip_ref.extractall(unzip_path)  # Extract all files to the specified directory"
   ]
  },
  {
   "cell_type": "code",
   "execution_count": null,
   "metadata": {},
   "outputs": [],
   "source": [
    "try:\n",
    "    config = ConfigurationManager()\n",
    "    data_ingestion_config = config.get_data_ingestion_config()\n",
    "    data_ingestion = DataIngestion(config=data_ingestion_config)\n",
    "    data_ingestion.download_file()\n",
    "    data_ingestion.extract_zip_file()\n",
    "except Exception as e:\n",
    "    raise e"
   ]
  },
  {
   "cell_type": "code",
   "execution_count": null,
   "metadata": {},
   "outputs": [],
   "source": []
  }
 ],
 "metadata": {
  "kernelspec": {
   "display_name": "mlproject_1",
   "language": "python",
   "name": "python3"
  },
  "language_info": {
   "codemirror_mode": {
    "name": "ipython",
    "version": 3
   },
   "file_extension": ".py",
   "mimetype": "text/x-python",
   "name": "python",
   "nbconvert_exporter": "python",
   "pygments_lexer": "ipython3",
   "version": "3.8.19"
  }
 },
 "nbformat": 4,
 "nbformat_minor": 2
}
